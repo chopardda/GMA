{
 "cells": [
  {
   "cell_type": "code",
   "id": "initial_id",
   "metadata": {
    "ExecuteTime": {
     "end_time": "2024-04-29T13:39:14.982308Z",
     "start_time": "2024-04-29T13:39:14.962558Z"
    }
   },
   "source": [
    "import os\n",
    "import sys\n",
    "\n",
    "current_script_path = os.path.dirname(os.path.abspath(\"\"))\n",
    "parent_directory = os.path.dirname(current_script_path)\n",
    "\n",
    "sys.path.append(parent_directory)\n",
    "\n",
    "from video_manager import VideoManager\n",
    "\n",
    "video_folder = \"/cluster/work/vogtlab/Projects/General_Movements/Preprocessed_Videos\"\n",
    "\n",
    "video_manager = VideoManager()\n",
    "video_manager.add_all_videos(video_folder, add_pt_data=True)  # Load class data, not the videos themselves\n",
    "video_manager.load_all_tracked_points('./output/tracked', missing_ok=True)\n",
    "video_ids = video_manager.get_all_video_ids()\n",
    "\n",
    "for video_id in video_ids:\n",
    "    print(video_id)\n",
    "    video_object = video_manager.get_video_object(video_id)\n",
    "    video_object.show_video_with_tracks()\n"
   ],
   "outputs": [
    {
     "ename": "KeyError",
     "evalue": "0",
     "output_type": "error",
     "traceback": [
      "\u001B[0;31m---------------------------------------------------------------------------\u001B[0m",
      "\u001B[0;31mKeyError\u001B[0m                                  Traceback (most recent call last)",
      "Cell \u001B[0;32mIn[3], line 15\u001B[0m\n\u001B[1;32m     13\u001B[0m video_manager \u001B[38;5;241m=\u001B[39m VideoManager()\n\u001B[1;32m     14\u001B[0m video_manager\u001B[38;5;241m.\u001B[39madd_all_videos(video_folder, add_pt_data\u001B[38;5;241m=\u001B[39m\u001B[38;5;28;01mTrue\u001B[39;00m)  \u001B[38;5;66;03m# Load class data, not the videos themselves\u001B[39;00m\n\u001B[0;32m---> 15\u001B[0m \u001B[43mvideo_manager\u001B[49m\u001B[38;5;241;43m.\u001B[39;49m\u001B[43mload_all_tracked_points\u001B[49m\u001B[43m(\u001B[49m\u001B[38;5;124;43m'\u001B[39;49m\u001B[38;5;124;43m./output/tracked\u001B[39;49m\u001B[38;5;124;43m'\u001B[39;49m\u001B[43m,\u001B[49m\u001B[43m \u001B[49m\u001B[43mmissing_ok\u001B[49m\u001B[38;5;241;43m=\u001B[39;49m\u001B[38;5;28;43;01mTrue\u001B[39;49;00m\u001B[43m)\u001B[49m\n\u001B[1;32m     16\u001B[0m video_ids \u001B[38;5;241m=\u001B[39m video_manager\u001B[38;5;241m.\u001B[39mget_all_video_ids()\n\u001B[1;32m     18\u001B[0m \u001B[38;5;28;01mfor\u001B[39;00m video_id \u001B[38;5;129;01min\u001B[39;00m video_ids:\n",
      "File \u001B[0;32m~/code/GMA2/codes/video_manager.py:141\u001B[0m, in \u001B[0;36mVideoManager.load_all_tracked_points\u001B[0;34m(self, tracked_keypoints_folder, file_type, missing_ok)\u001B[0m\n\u001B[1;32m    139\u001B[0m \u001B[38;5;28;01mfor\u001B[39;00m video_id \u001B[38;5;129;01min\u001B[39;00m video_keys:\n\u001B[1;32m    140\u001B[0m     \u001B[38;5;28;01mtry\u001B[39;00m:\n\u001B[0;32m--> 141\u001B[0m         \u001B[38;5;28;43mself\u001B[39;49m\u001B[38;5;241;43m.\u001B[39;49m\u001B[43mvideo_collection\u001B[49m\u001B[43m[\u001B[49m\u001B[43mvideo_id\u001B[49m\u001B[43m]\u001B[49m\u001B[38;5;241;43m.\u001B[39;49m\u001B[43mload_tracked_points_from_folder\u001B[49m\u001B[43m(\u001B[49m\u001B[43mtracked_keypoints_folder\u001B[49m\u001B[43m,\u001B[49m\u001B[43m \u001B[49m\u001B[43mfile_type\u001B[49m\u001B[43m)\u001B[49m\n\u001B[1;32m    143\u001B[0m     \u001B[38;5;28;01mexcept\u001B[39;00m \u001B[38;5;167;01mFileNotFoundError\u001B[39;00m \u001B[38;5;28;01mas\u001B[39;00m e:\n\u001B[1;32m    144\u001B[0m         \u001B[38;5;28;01mif\u001B[39;00m \u001B[38;5;129;01mnot\u001B[39;00m missing_ok:\n",
      "File \u001B[0;32m~/code/GMA2/codes/video_manager.py:648\u001B[0m, in \u001B[0;36mVideoObject.load_tracked_points_from_folder\u001B[0;34m(self, tracked_keypoints_folder, file_type)\u001B[0m\n\u001B[1;32m    645\u001B[0m \u001B[38;5;28;01melif\u001B[39;00m file_type \u001B[38;5;241m==\u001B[39m \u001B[38;5;124m'\u001B[39m\u001B[38;5;124mcsv\u001B[39m\u001B[38;5;124m'\u001B[39m:\n\u001B[1;32m    646\u001B[0m     \u001B[38;5;28mself\u001B[39m\u001B[38;5;241m.\u001B[39m_load_tracked_points_from_csv(file_path)\n\u001B[0;32m--> 648\u001B[0m \u001B[38;5;28;43mself\u001B[39;49m\u001B[38;5;241;43m.\u001B[39;49m\u001B[43mupdate_arranged_tracked_data\u001B[49m\u001B[43m(\u001B[49m\u001B[43m)\u001B[49m\n",
      "File \u001B[0;32m~/code/GMA2/codes/video_manager.py:651\u001B[0m, in \u001B[0;36mVideoObject.update_arranged_tracked_data\u001B[0;34m(self)\u001B[0m\n\u001B[1;32m    650\u001B[0m \u001B[38;5;28;01mdef\u001B[39;00m \u001B[38;5;21mupdate_arranged_tracked_data\u001B[39m(\u001B[38;5;28mself\u001B[39m):\n\u001B[0;32m--> 651\u001B[0m     \u001B[38;5;28mself\u001B[39m\u001B[38;5;241m.\u001B[39marranged_tracking_data \u001B[38;5;241m=\u001B[39m \u001B[38;5;28;43mself\u001B[39;49m\u001B[38;5;241;43m.\u001B[39;49m\u001B[43mget_arranged_tracking_data\u001B[49m\u001B[43m(\u001B[49m\u001B[43m)\u001B[49m\n",
      "File \u001B[0;32m~/code/GMA2/codes/video_manager.py:816\u001B[0m, in \u001B[0;36mVideoObject.get_arranged_tracking_data\u001B[0;34m(self)\u001B[0m\n\u001B[1;32m    814\u001B[0m \u001B[38;5;28;01mdef\u001B[39;00m \u001B[38;5;21mget_arranged_tracking_data\u001B[39m(\u001B[38;5;28mself\u001B[39m):\n\u001B[1;32m    815\u001B[0m     \u001B[38;5;28;01massert\u001B[39;00m \u001B[38;5;28mself\u001B[39m\u001B[38;5;241m.\u001B[39mtracking_data \u001B[38;5;129;01mis\u001B[39;00m \u001B[38;5;129;01mnot\u001B[39;00m {}, \u001B[38;5;124mf\u001B[39m\u001B[38;5;124m\"\u001B[39m\u001B[38;5;124mNo tracked points found\u001B[39m\u001B[38;5;124m\"\u001B[39m\n\u001B[0;32m--> 816\u001B[0m     arranged_tracking_data \u001B[38;5;241m=\u001B[39m {keypoint: [] \u001B[38;5;28;01mfor\u001B[39;00m keypoint \u001B[38;5;129;01min\u001B[39;00m \u001B[38;5;28;43mself\u001B[39;49m\u001B[38;5;241;43m.\u001B[39;49m\u001B[43mtracking_data\u001B[49m\u001B[43m[\u001B[49m\u001B[38;5;241;43m0\u001B[39;49m\u001B[43m]\u001B[49m}\n\u001B[1;32m    818\u001B[0m     \u001B[38;5;28;01mfor\u001B[39;00m frame_index, data \u001B[38;5;129;01min\u001B[39;00m \u001B[38;5;28mself\u001B[39m\u001B[38;5;241m.\u001B[39mtracking_data\u001B[38;5;241m.\u001B[39mitems():\n\u001B[1;32m    819\u001B[0m         \u001B[38;5;28;01mfor\u001B[39;00m keypoint, data_list \u001B[38;5;129;01min\u001B[39;00m data\u001B[38;5;241m.\u001B[39mitems():\n",
      "\u001B[0;31mKeyError\u001B[0m: 0"
     ]
    }
   ],
   "execution_count": 3
  },
  {
   "cell_type": "code",
   "execution_count": null,
   "id": "ee55eb4c573ef9d4",
   "metadata": {},
   "outputs": [],
   "source": []
  },
  {
   "cell_type": "code",
   "execution_count": null,
   "id": "0306bf6a",
   "metadata": {},
   "outputs": [],
   "source": []
  }
 ],
 "metadata": {
  "kernelspec": {
   "display_name": "Python 3 (ipykernel)",
   "language": "python",
   "name": "python3"
  },
  "language_info": {
   "codemirror_mode": {
    "name": "ipython",
    "version": 3
   },
   "file_extension": ".py",
   "mimetype": "text/x-python",
   "name": "python",
   "nbconvert_exporter": "python",
   "pygments_lexer": "ipython3",
   "version": "3.8.18"
  }
 },
 "nbformat": 4,
 "nbformat_minor": 5
}
