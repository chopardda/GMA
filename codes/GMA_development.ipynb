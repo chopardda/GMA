{
 "cells": [
  {
   "cell_type": "code",
   "execution_count": 1,
   "id": "initial_id",
   "metadata": {
    "ExecuteTime": {
     "end_time": "2024-03-19T13:41:46.721717Z",
     "start_time": "2024-03-19T13:41:46.421967Z"
    },
    "collapsed": true
   },
   "outputs": [],
   "source": [
    "# To enable labeling of videos in notebook\n",
    "%matplotlib notebook \n",
    "\n",
    "import matplotlib.pyplot as plt\n",
    "import mediapy as media\n",
    "import numpy as np\n",
    "import os\n",
    "import seaborn as sns\n",
    "\n",
    "from point_labeler import PointLabeler\n",
    "from point_tracker import PointTracker\n",
    "from tapnet.utils import viz_utils\n",
    "from video_manager import VideoManager"
   ]
  },
  {
   "cell_type": "code",
   "execution_count": 2,
   "id": "40b6a370b47fb0b7",
   "metadata": {
    "ExecuteTime": {
     "end_time": "2024-03-19T13:41:46.724714Z",
     "start_time": "2024-03-19T13:41:46.722725Z"
    }
   },
   "outputs": [],
   "source": [
    "# Specify folder paths\n",
    "video_folder = \"/home/daphne/Documents/GMA/data/Preprocessed_Videos\"\n",
    "labeled_keypoints_folder = \"/home/daphne/Documents/GMA/codes/output/labelled_points\"\n",
    "merged_keypoints_folder = \"/home/daphne/Documents/GMA/codes/output/merged\"\n",
    "tracked_keypoints_folder = \"/home/daphne/Documents/GMA/codes/output/tracked_points\"\n",
    "cropped_videos_folder = \"/home/daphne/Documents/GMA/data/Preprocessed_Videos_Cropped\"\n",
    "cropped_resized_videos_folder = \"/home/daphne/Documents/GMA/data/Preprocessed_Videos_Cropped_Resized\""
   ]
  },
  {
   "cell_type": "markdown",
   "id": "13c8cfc154715b2d",
   "metadata": {},
   "source": [
    "## Create and setup VideoManager object"
   ]
  },
  {
   "cell_type": "code",
   "execution_count": 3,
   "id": "f2d57ec780ee70c0",
   "metadata": {
    "ExecuteTime": {
     "end_time": "2024-03-19T13:41:46.739944Z",
     "start_time": "2024-03-19T13:41:46.725342Z"
    }
   },
   "outputs": [],
   "source": [
    "# Create a video manage to hold all videos\n",
    "video_manager = VideoManager()"
   ]
  },
  {
   "cell_type": "code",
   "execution_count": 4,
   "id": "e9bcf9447ab6171d",
   "metadata": {
    "ExecuteTime": {
     "end_time": "2024-03-19T13:41:46.750796Z",
     "start_time": "2024-03-19T13:41:46.741079Z"
    }
   },
   "outputs": [],
   "source": [
    "# Add all videos as VideoObject to video_manager (optional flag )\n",
    "video_manager.add_all_videos(video_folder, add_pt_data=True)  # Load class data (pt_data), not the videos themselves"
   ]
  },
  {
   "cell_type": "code",
   "execution_count": 5,
   "id": "75b1a0ab98936a04",
   "metadata": {
    "ExecuteTime": {
     "end_time": "2024-03-19T13:41:46.762955Z",
     "start_time": "2024-03-19T13:41:46.751603Z"
    }
   },
   "outputs": [],
   "source": [
    "video_manager.get_all_video_ids()"
   ]
  },
  {
   "cell_type": "code",
   "execution_count": 6,
   "id": "e5a8626c01fe6a25",
   "metadata": {
    "ExecuteTime": {
     "end_time": "2024-03-19T13:41:46.777288Z",
     "start_time": "2024-03-19T13:41:46.763771Z"
    }
   },
   "outputs": [],
   "source": [
    "# Some random video as an example\n",
    "video_id = '35_F-_c'"
   ]
  },
  {
   "cell_type": "code",
   "execution_count": 6,
   "id": "3d2e9bbbb5708d1",
   "metadata": {
    "ExecuteTime": {
     "end_time": "2024-03-19T13:41:46.779501Z",
     "start_time": "2024-03-19T13:41:46.778033Z"
    }
   },
   "outputs": [],
   "source": []
  },
  {
   "cell_type": "markdown",
   "id": "d29f33f0dec70958",
   "metadata": {},
   "source": [
    "## Look at patient data"
   ]
  },
  {
   "cell_type": "code",
   "execution_count": 7,
   "id": "7a55033a5554f4e3",
   "metadata": {
    "ExecuteTime": {
     "end_time": "2024-03-19T13:41:46.788193Z",
     "start_time": "2024-03-19T13:41:46.780143Z"
    }
   },
   "outputs": [],
   "source": [
    "# -- get VideoObject from VideoManager based on video_id (i.e. filename without extension)\n",
    "video_object = video_manager.get_video_object(video_id)"
   ]
  },
  {
   "cell_type": "code",
   "execution_count": 8,
   "id": "8dfd28e77e56d64e",
   "metadata": {
    "ExecuteTime": {
     "end_time": "2024-03-19T13:41:46.799081Z",
     "start_time": "2024-03-19T13:41:46.789196Z"
    }
   },
   "outputs": [],
   "source": [
    "video_object.video_id"
   ]
  },
  {
   "cell_type": "code",
   "execution_count": 9,
   "id": "29bfe40b63ea07d3",
   "metadata": {
    "ExecuteTime": {
     "end_time": "2024-03-19T13:41:46.809972Z",
     "start_time": "2024-03-19T13:41:46.800128Z"
    }
   },
   "outputs": [],
   "source": [
    "video_object.patient_data.age_group"
   ]
  },
  {
   "cell_type": "code",
   "execution_count": 10,
   "id": "832e6102825a6fa4",
   "metadata": {
    "ExecuteTime": {
     "end_time": "2024-03-19T13:41:46.821235Z",
     "start_time": "2024-03-19T13:41:46.810665Z"
    }
   },
   "outputs": [],
   "source": [
    "video_object.patient_data.health_status"
   ]
  },
  {
   "cell_type": "code",
   "execution_count": 10,
   "id": "c03c3da72fc53b25",
   "metadata": {
    "ExecuteTime": {
     "end_time": "2024-03-15T14:07:23.528296Z",
     "start_time": "2024-03-15T14:07:23.527098Z"
    }
   },
   "outputs": [],
   "source": []
  },
  {
   "cell_type": "markdown",
   "id": "c3c92afb961e8995",
   "metadata": {},
   "source": [
    "## Label video"
   ]
  },
  {
   "cell_type": "code",
   "execution_count": 11,
   "id": "892f673d6882016c",
   "metadata": {
    "ExecuteTime": {
     "end_time": "2024-03-15T14:07:23.537236Z",
     "start_time": "2024-03-15T14:07:23.528768Z"
    }
   },
   "outputs": [],
   "source": [
    "# -- get VideoObject from VideoManager based on video_id (i.e. filename without extension)\n",
    "video_object = video_manager.get_video_object(video_id)"
   ]
  },
  {
   "cell_type": "code",
   "execution_count": 12,
   "id": "a96b2cd3aa7bd2d0",
   "metadata": {
    "ExecuteTime": {
     "end_time": "2024-03-15T14:07:30.917064Z",
     "start_time": "2024-03-15T14:07:23.538049Z"
    }
   },
   "outputs": [],
   "source": [
    "# -- Load video\n",
    "video_object.load_video()"
   ]
  },
  {
   "cell_type": "code",
   "execution_count": 13,
   "id": "e69200378450c942",
   "metadata": {
    "ExecuteTime": {
     "end_time": "2024-03-15T14:07:31.360567Z",
     "start_time": "2024-03-15T14:07:30.918293Z"
    }
   },
   "outputs": [],
   "source": [
    "# -- Label keypoints in video (once all points selected, run next cell)\n",
    "frame_index = 0\n",
    "video_object.label_and_store_keypoints(frame_index, task='extreme_keypoints')"
   ]
  },
  {
   "cell_type": "code",
   "execution_count": 14,
   "id": "8b1f3d3d7125afe9",
   "metadata": {
    "ExecuteTime": {
     "end_time": "2024-03-15T14:07:31.364424Z",
     "start_time": "2024-03-15T14:07:31.361540Z"
    }
   },
   "outputs": [],
   "source": [
    "# -- Labelled keypoints are saved in VideoObject\n",
    "video_object.keypoint_labels"
   ]
  },
  {
   "cell_type": "code",
   "execution_count": 15,
   "id": "63913974cb0c1801",
   "metadata": {
    "ExecuteTime": {
     "end_time": "2024-03-15T14:07:31.670879Z",
     "start_time": "2024-03-15T14:07:31.364917Z"
    }
   },
   "outputs": [],
   "source": [
    "# -- Save labelled points to file to use again in the future\n",
    "video_object.save_keypoints_to_csv(os.path.join(labeled_keypoints_folder, f'{video_id}.csv'))\n",
    "video_object.save_keypoints_to_json(os.path.join(labeled_keypoints_folder, f'{video_id}.json'))"
   ]
  },
  {
   "cell_type": "code",
   "execution_count": null,
   "id": "d442273d7bd9b1e9",
   "metadata": {
    "ExecuteTime": {
     "end_time": "2024-03-15T14:07:31.671596Z",
     "start_time": "2024-03-15T14:07:31.671534Z"
    }
   },
   "outputs": [],
   "source": [
    "# -- Release video from memory\n",
    "video_object.release_video()"
   ]
  },
  {
   "cell_type": "code",
   "execution_count": null,
   "id": "cecc08e435a80538",
   "metadata": {},
   "outputs": [],
   "source": []
  },
  {
   "cell_type": "markdown",
   "id": "73e53cfb0be7ec9",
   "metadata": {},
   "source": [
    "## Track labelled points"
   ]
  },
  {
   "cell_type": "code",
   "execution_count": 28,
   "id": "8cd160b66ed538f7",
   "metadata": {
    "ExecuteTime": {
     "end_time": "2024-03-14T17:35:06.773804Z",
     "start_time": "2024-03-14T17:35:06.702345Z"
    }
   },
   "outputs": [],
   "source": [
    "# -- Create PointTracker to track points\n",
    "tracker = PointTracker('../tapnet/checkpoints/tapir_checkpoint_panning.npy')"
   ]
  },
  {
   "cell_type": "code",
   "execution_count": 29,
   "id": "517bd3b25346fd0b",
   "metadata": {
    "ExecuteTime": {
     "end_time": "2024-03-14T17:35:07.417449Z",
     "start_time": "2024-03-14T17:35:07.415048Z"
    }
   },
   "outputs": [],
   "source": [
    "# -- Load VideoObject from VideoManager\n",
    "video_object = video_manager.get_video_object(video_id)"
   ]
  },
  {
   "cell_type": "code",
   "execution_count": 30,
   "id": "126730a7133c6d4",
   "metadata": {
    "ExecuteTime": {
     "end_time": "2024-03-14T17:35:07.894807Z",
     "start_time": "2024-03-14T17:35:07.890887Z"
    }
   },
   "outputs": [],
   "source": [
    "# -- Define starting frame and tracking task (which keypoints to track)\n",
    "frame_index = 0\n",
    "task = 'extreme_keypoints'"
   ]
  },
  {
   "cell_type": "code",
   "execution_count": 31,
   "id": "9a02b3fb58e90e59",
   "metadata": {
    "ExecuteTime": {
     "end_time": "2024-03-14T17:35:15.526391Z",
     "start_time": "2024-03-14T17:35:08.432800Z"
    }
   },
   "outputs": [],
   "source": [
    "# -- Load video\n",
    "video_object.load_video()"
   ]
  },
  {
   "cell_type": "code",
   "execution_count": 112,
   "id": "6d6bfd027fd44d73",
   "metadata": {
    "ExecuteTime": {
     "end_time": "2024-03-15T13:18:14.155618Z",
     "start_time": "2024-03-15T13:18:14.152795Z"
    }
   },
   "outputs": [],
   "source": [
    "video_object.load_keypoint_labels_from_folder(merged_keypoints_folder, 'extreme_keypoints', 'json')"
   ]
  },
  {
   "cell_type": "code",
   "execution_count": 113,
   "id": "62ce1a7b144b1874",
   "metadata": {
    "ExecuteTime": {
     "end_time": "2024-03-15T13:18:23.535494Z",
     "start_time": "2024-03-15T13:18:23.531969Z"
    }
   },
   "outputs": [],
   "source": [
    "video_object.keypoint_labels"
   ]
  },
  {
   "cell_type": "code",
   "execution_count": null,
   "id": "12b1ef23d92bebb9",
   "metadata": {},
   "outputs": [],
   "source": []
  },
  {
   "cell_type": "code",
   "execution_count": 32,
   "id": "be1a09f14756ff8a",
   "metadata": {
    "ExecuteTime": {
     "end_time": "2024-03-14T17:38:47.276595Z",
     "start_time": "2024-03-14T17:35:16.536162Z"
    }
   },
   "outputs": [],
   "source": [
    "# -- Track points (loading the labelled points from labeled_keypoints_folder, not necessary if already loaded in VideoObject\n",
    "try:\n",
    "    video_object.track_points(\n",
    "        tracker,\n",
    "        frame_index, # from which index to track\n",
    "        task, # choose which keypoints to track, all or only extreme ones (for cropping, speeds up the tracking since less points)\n",
    "        merged_keypoints_folder, # optional: where from to load labelled points\n",
    "        'json'\n",
    "    )\n",
    "except ValueError as e:\n",
    "    print(e)  # Handle the error appropriately"
   ]
  },
  {
   "cell_type": "code",
   "execution_count": 33,
   "id": "2b703568f2dcefe0",
   "metadata": {
    "ExecuteTime": {
     "end_time": "2024-03-14T17:43:52.903785Z",
     "start_time": "2024-03-14T17:43:52.651052Z"
    }
   },
   "outputs": [],
   "source": [
    "## -- Tracked points are saved in self.tracking_data\n",
    "video_object.tracking_data"
   ]
  },
  {
   "cell_type": "code",
   "execution_count": 34,
   "id": "5de6c0c64242da55",
   "metadata": {
    "ExecuteTime": {
     "end_time": "2024-03-14T17:44:31.819258Z",
     "start_time": "2024-03-14T17:44:31.729561Z"
    }
   },
   "outputs": [],
   "source": [
    "# -- Save tracked points\n",
    "video_object.save_tracked_points_to_csv(tracked_keypoints_folder)\n",
    "video_object.save_tracked_points_to_json(tracked_keypoints_folder)"
   ]
  },
  {
   "cell_type": "code",
   "execution_count": 35,
   "id": "f0b307c859f11fcc",
   "metadata": {
    "ExecuteTime": {
     "end_time": "2024-03-14T17:44:33.600635Z",
     "start_time": "2024-03-14T17:44:33.371962Z"
    }
   },
   "outputs": [],
   "source": [
    "# -- Release video from memory\n",
    "video_object.release_video()"
   ]
  },
  {
   "cell_type": "code",
   "execution_count": null,
   "id": "e6d6e55718ef9502",
   "metadata": {},
   "outputs": [],
   "source": []
  },
  {
   "cell_type": "markdown",
   "id": "ec84e43d5d15e35a",
   "metadata": {},
   "source": [
    "## Load tracked points and crop videos accordingly"
   ]
  },
  {
   "cell_type": "code",
   "execution_count": 59,
   "id": "71c72a8c55763e9e",
   "metadata": {
    "ExecuteTime": {
     "end_time": "2024-03-19T10:02:43.429098Z",
     "start_time": "2024-03-19T10:02:43.426304Z"
    }
   },
   "outputs": [],
   "source": [
    "# -- Load VideoObject from VideoManager\n",
    "video_object = video_manager.get_video_object(video_id)"
   ]
  },
  {
   "cell_type": "code",
   "execution_count": 60,
   "id": "1135a64c4fc423a2",
   "metadata": {
    "ExecuteTime": {
     "end_time": "2024-03-19T10:02:44.003664Z",
     "start_time": "2024-03-19T10:02:43.993273Z"
    }
   },
   "outputs": [],
   "source": [
    "# -- Compute extreme coordinates according to tracked points for appropriate cropping\n",
    "video_object.update_extreme_coordinates(tracked_keypoints_folder)"
   ]
  },
  {
   "cell_type": "code",
   "execution_count": 61,
   "id": "f06ac37e7f302eb2",
   "metadata": {
    "ExecuteTime": {
     "end_time": "2024-03-19T10:02:44.654025Z",
     "start_time": "2024-03-19T10:02:44.650147Z"
    }
   },
   "outputs": [],
   "source": [
    "# -- Extreme coordinates are stored in self.extreme_coordinates\n",
    "video_object.extreme_coordinates"
   ]
  },
  {
   "cell_type": "code",
   "execution_count": 62,
   "id": "9fe01d7465e7af49",
   "metadata": {
    "ExecuteTime": {
     "end_time": "2024-03-19T10:02:46.673092Z",
     "start_time": "2024-03-19T10:02:46.670478Z"
    }
   },
   "outputs": [],
   "source": [
    "video_object.load_keypoint_labels_from_folder(merged_keypoints_folder, 'extreme_keypoints', 'json')"
   ]
  },
  {
   "cell_type": "code",
   "execution_count": 63,
   "id": "200e22761c71491e",
   "metadata": {
    "ExecuteTime": {
     "end_time": "2024-03-19T10:02:47.705283Z",
     "start_time": "2024-03-19T10:02:47.701582Z"
    }
   },
   "outputs": [],
   "source": [
    "video_object.keypoint_labels"
   ]
  },
  {
   "cell_type": "code",
   "execution_count": 64,
   "id": "58c2087a5cf65216",
   "metadata": {
    "ExecuteTime": {
     "end_time": "2024-03-19T10:02:49.471705Z",
     "start_time": "2024-03-19T10:02:49.468203Z"
    }
   },
   "outputs": [],
   "source": [
    "cropped_keypoint_labels = {\n",
    "    frame: {\n",
    "        keypoint: {\n",
    "            'x': coords['x'] - 20,\n",
    "            'y': coords['y'] - 30\n",
    "        }\n",
    "        for keypoint, coords in frame_data.items()\n",
    "    }\n",
    "    for frame, frame_data in video_object.keypoint_labels.items()\n",
    "}"
   ]
  },
  {
   "cell_type": "code",
   "execution_count": 65,
   "id": "b81e0f91e46c4bc2",
   "metadata": {
    "ExecuteTime": {
     "end_time": "2024-03-19T10:02:50.917958Z",
     "start_time": "2024-03-19T10:02:50.914652Z"
    }
   },
   "outputs": [],
   "source": [
    "cropped_keypoint_labels"
   ]
  },
  {
   "cell_type": "code",
   "execution_count": 66,
   "id": "38e1f04c62042899",
   "metadata": {
    "ExecuteTime": {
     "end_time": "2024-03-19T10:03:20.671159Z",
     "start_time": "2024-03-19T10:02:52.308309Z"
    }
   },
   "outputs": [],
   "source": [
    "# -- Crop videos according to extreme coordinates\n",
    "video_object.crop_and_resize_video(cropped_videos_folder, resize=True, resize_folder=cropped_resized_videos_folder, load_and_release_video=True)"
   ]
  },
  {
   "cell_type": "code",
   "execution_count": 18,
   "id": "21597b43729a2d44",
   "metadata": {
    "ExecuteTime": {
     "end_time": "2024-03-15T17:08:25.918286Z",
     "start_time": "2024-03-15T17:08:25.915873Z"
    }
   },
   "outputs": [],
   "source": []
  },
  {
   "cell_type": "markdown",
   "id": "e1e0ef94fff762",
   "metadata": {},
   "source": [
    "# Visualize labelled points (to update!)"
   ]
  },
  {
   "cell_type": "code",
   "execution_count": 14,
   "id": "fa791def7962aaf4",
   "metadata": {
    "ExecuteTime": {
     "end_time": "2024-03-15T08:31:13.310883Z",
     "start_time": "2024-03-15T08:31:13.308400Z"
    }
   },
   "outputs": [],
   "source": [
    "# -- Load VideoObject from VideoManager\n",
    "video_object = video_manager.get_video_object(video_id)"
   ]
  },
  {
   "cell_type": "code",
   "execution_count": 15,
   "id": "fd2628f3e38bfd1e",
   "metadata": {
    "ExecuteTime": {
     "end_time": "2024-03-15T08:31:14.094169Z",
     "start_time": "2024-03-15T08:31:14.090891Z"
    }
   },
   "outputs": [],
   "source": [
    "extreme_keypoints = ['head top', 'left elbow', 'right elbow',\n",
    "                  'left wrist', 'right wrist',\n",
    "                  'left knee', 'right knee',\n",
    "                  'left ankle', 'right ankle']\n",
    "\n",
    "all_body_keypoints = ['nose',\n",
    "                           'head bottom', 'head top',\n",
    "                           'left ear', 'right ear',\n",
    "                           'left shoulder', 'right shoulder',\n",
    "                           'left elbow', 'right elbow',\n",
    "                           'left wrist', 'right wrist',\n",
    "                           'left hip', 'right hip',\n",
    "                           'left knee', 'right knee',\n",
    "                           'left ankle', 'right ankle']"
   ]
  },
  {
   "cell_type": "code",
   "execution_count": 16,
   "id": "de21c5d855c39f04",
   "metadata": {
    "ExecuteTime": {
     "end_time": "2024-03-15T08:31:14.752206Z",
     "start_time": "2024-03-15T08:31:14.748872Z"
    }
   },
   "outputs": [],
   "source": [
    "def create_bodypart_colormap(body_keypoints):\n",
    "    # Use a matplotlib colormap\n",
    "    colorpalette = sns.color_palette(\"hls\", len(body_keypoints))  # 'tab20' is a good palette for distinct colors\n",
    "\n",
    "    bodypart_colors = {\n",
    "        body_keypoints[i]: colorpalette[i] for i in range(len(body_keypoints))\n",
    "    }\n",
    "\n",
    "    return bodypart_colors\n",
    "\n",
    "colormap = create_bodypart_colormap(all_body_keypoints)"
   ]
  },
  {
   "cell_type": "code",
   "execution_count": 80,
   "id": "c0be6794bf89b3df",
   "metadata": {
    "ExecuteTime": {
     "end_time": "2024-03-15T12:19:23.267280Z",
     "start_time": "2024-03-15T12:19:23.263429Z"
    }
   },
   "outputs": [],
   "source": [
    "colormap"
   ]
  },
  {
   "cell_type": "code",
   "execution_count": 77,
   "id": "5bd22d25f3b0bae3",
   "metadata": {
    "ExecuteTime": {
     "end_time": "2024-03-15T12:17:41.722618Z",
     "start_time": "2024-03-15T12:17:41.719313Z"
    }
   },
   "outputs": [],
   "source": [
    "def draw_points(points_dict, frame):\n",
    "    fig = plt.figure(figsize=(10, 5))\n",
    "    ax_image = fig.add_subplot(121)\n",
    "    ax_image.imshow(frame)\n",
    "                \n",
    "    for keypoint in extreme_keypoints:\n",
    "        if keypoint in points_dict:\n",
    "            point = (points_dict[keypoint][0], points_dict[keypoint][1])\n",
    "            if point is not None:\n",
    "                color = colormap[keypoint]\n",
    "                ax_image.plot(point[0], point[1], 'o', color=color)\n",
    "    ax_image.axis('off')\n",
    "    plt.draw()"
   ]
  },
  {
   "cell_type": "code",
   "execution_count": 61,
   "id": "8846f5295007ecb0",
   "metadata": {
    "ExecuteTime": {
     "end_time": "2024-03-15T11:52:06.411692Z",
     "start_time": "2024-03-15T11:52:06.402255Z"
    }
   },
   "outputs": [],
   "source": [
    "video_object.load_tracked_points_from_folder(tracked_keypoints_folder, 'json')"
   ]
  },
  {
   "cell_type": "code",
   "execution_count": 62,
   "id": "97313a98fb7feab7",
   "metadata": {
    "ExecuteTime": {
     "end_time": "2024-03-15T11:52:06.979476Z",
     "start_time": "2024-03-15T11:52:06.737566Z"
    }
   },
   "outputs": [],
   "source": [
    "video_object.tracking_data[0]"
   ]
  },
  {
   "cell_type": "code",
   "execution_count": 63,
   "id": "b5b65a7ea89a8347",
   "metadata": {
    "ExecuteTime": {
     "end_time": "2024-03-15T11:52:07.340804Z",
     "start_time": "2024-03-15T11:52:07.338343Z"
    }
   },
   "outputs": [],
   "source": [
    "video_object.load_video()"
   ]
  },
  {
   "cell_type": "code",
   "execution_count": 75,
   "id": "dc0e495522cdf629",
   "metadata": {
    "ExecuteTime": {
     "end_time": "2024-03-15T12:17:33.404671Z",
     "start_time": "2024-03-15T12:17:33.401995Z"
    }
   },
   "outputs": [],
   "source": [
    "# Create dictionary of points to draw and frame to draw on\n",
    "index = 0\n",
    "points_to_draw = {key: [value[index]['x'], value[index]['y']] for key, value in video_object.tracking_data[0].items() if len(value) > index and value[index]['visible'] == True}\n",
    "frame = video_object.video[index]"
   ]
  },
  {
   "cell_type": "code",
   "execution_count": 76,
   "id": "6b9be5606ad0e316",
   "metadata": {
    "ExecuteTime": {
     "end_time": "2024-03-15T12:17:37.917737Z",
     "start_time": "2024-03-15T12:17:37.915404Z"
    }
   },
   "outputs": [],
   "source": [
    "for key, value in video_object.tracking_data[0].items():\n",
    "    print('--')\n",
    "    print(key, value[index]['x'], value[index]['y'])"
   ]
  },
  {
   "cell_type": "code",
   "execution_count": 65,
   "id": "2dd9105e151fc05b",
   "metadata": {
    "ExecuteTime": {
     "end_time": "2024-03-15T11:52:09.464768Z",
     "start_time": "2024-03-15T11:52:09.461929Z"
    }
   },
   "outputs": [],
   "source": [
    "points_to_draw"
   ]
  },
  {
   "cell_type": "code",
   "execution_count": 78,
   "id": "87e4c7f33536c7dc",
   "metadata": {
    "ExecuteTime": {
     "end_time": "2024-03-15T12:17:46.246033Z",
     "start_time": "2024-03-15T12:17:46.227155Z"
    }
   },
   "outputs": [],
   "source": [
    "# Visualize tracked points\n",
    "draw_points(points_to_draw, frame)"
   ]
  },
  {
   "cell_type": "code",
   "execution_count": 81,
   "id": "55da8eadfadc3758",
   "metadata": {
    "ExecuteTime": {
     "end_time": "2024-03-15T12:20:22.462965Z",
     "start_time": "2024-03-15T12:20:22.444182Z"
    }
   },
   "outputs": [],
   "source": [
    "# draw query_points on original image\n",
    "from point_tracker import convert_select_point_dict_to_query_points\n",
    "select_frame = index\n",
    "fig, ax = plt.subplots(figsize=(10, 5))\n",
    "ax.imshow(np.array(video_object.video[select_frame]))\n",
    "# to convert must be in form {keypoint: [x, y], ...}\n",
    "\n",
    "query_points = convert_select_point_dict_to_query_points(select_frame, points_to_draw) #-DC: still in global reference: from xy to tyx\n",
    "color_list = [colormap[keypoint] for keypoint in points_to_draw.keys()]\n",
    "ax.scatter(query_points[:, 2], query_points[:, 1], marker=\"o\", color=color_list, s=25)\n",
    "plt.show(block=False)"
   ]
  },
  {
   "cell_type": "markdown",
   "id": "95143b1ff5ea463c",
   "metadata": {},
   "source": [
    "## Transform to cropped coords"
   ]
  },
  {
   "cell_type": "code",
   "execution_count": 85,
   "id": "e50792f3dd229393",
   "metadata": {
    "ExecuteTime": {
     "end_time": "2024-03-15T12:32:05.950552Z",
     "start_time": "2024-03-15T12:32:05.947322Z"
    }
   },
   "outputs": [],
   "source": [
    "# Create a video manage to hold all videos\n",
    "cropped_video_manager = VideoManager()\n",
    "# Add all videos as VideoObject to video_manager (optional flag )\n",
    "cropped_video_manager.add_all_videos(cropped_videos_folder, add_pt_data=True)  # Load class data (pt_data), not the videos themselves"
   ]
  },
  {
   "cell_type": "code",
   "execution_count": 101,
   "id": "eb2b7d573189cb4b",
   "metadata": {
    "ExecuteTime": {
     "end_time": "2024-03-15T12:37:01.505453Z",
     "start_time": "2024-03-15T12:37:01.502285Z"
    }
   },
   "outputs": [],
   "source": [
    "cropped_video_manager.get_all_video_ids()"
   ]
  },
  {
   "cell_type": "code",
   "execution_count": 102,
   "id": "4899b92a268b330e",
   "metadata": {
    "ExecuteTime": {
     "end_time": "2024-03-15T12:37:35.525829Z",
     "start_time": "2024-03-15T12:37:35.523874Z"
    }
   },
   "outputs": [],
   "source": [
    "cropped_video_id = 'cropped_vid_35_F-_c'"
   ]
  },
  {
   "cell_type": "code",
   "execution_count": 94,
   "id": "c6195b025d7c8126",
   "metadata": {
    "ExecuteTime": {
     "end_time": "2024-03-15T12:34:17.453849Z",
     "start_time": "2024-03-15T12:34:17.451603Z"
    }
   },
   "outputs": [],
   "source": [
    "video_object = video_manager.get_video_object(video_id)"
   ]
  },
  {
   "cell_type": "code",
   "execution_count": 95,
   "id": "74f719cc1f190845",
   "metadata": {
    "ExecuteTime": {
     "end_time": "2024-03-15T12:34:18.319214Z",
     "start_time": "2024-03-15T12:34:18.307980Z"
    }
   },
   "outputs": [],
   "source": [
    "# shift selected points according to cropped image\n",
    "video_object.update_extreme_coordinates(tracked_keypoints_folder)\n",
    "x_min = video_object.extreme_coordinates['leftmost']\n",
    "y_max = video_object.extreme_coordinates['topmost']\n",
    "x_max = video_object.extreme_coordinates['rightmost']\n",
    "y_min = video_object.extreme_coordinates['bottommost']\n",
    "\n",
    "margin = 0.15  # 15% margin\n",
    "x_margin = round(margin * (x_max - x_min))\n",
    "y_margin = round(margin * (y_max - y_min))\n",
    "largest_margin = max(x_margin, y_margin)\n",
    "\n",
    "height, width = video_object.video.metadata.shape\n",
    "min_x_crop, max_x_crop = (max(0, x_min - largest_margin - 1),\n",
    "                          min(width, x_max + largest_margin + 1))\n",
    "min_y_crop, max_y_crop = (max(0, y_min - largest_margin - 1),\n",
    "                          min(height, y_max + largest_margin + 1))\n",
    "\n",
    "# first dimension is 't'\n",
    "query_points_crop = np.array([[0.0, cc[1]-min_y_crop, cc[2]-min_x_crop] for cc in query_points])"
   ]
  },
  {
   "cell_type": "code",
   "execution_count": 114,
   "id": "857d0ffa956535a0",
   "metadata": {
    "ExecuteTime": {
     "end_time": "2024-03-15T13:31:03.033907Z",
     "start_time": "2024-03-15T13:31:03.031137Z"
    }
   },
   "outputs": [],
   "source": [
    "cropped_keypoint_labels = {\n",
    "    frame: {\n",
    "        keypoint: {\n",
    "            'x': coords['x'] - min_x_crop,\n",
    "            'y': coords['y'] - min_y_crop\n",
    "        }\n",
    "        for keypoint, coords in frame_data.items()\n",
    "    }\n",
    "    for frame, frame_data in video_object.keypoint_labels.items()\n",
    "}"
   ]
  },
  {
   "cell_type": "code",
   "execution_count": 115,
   "id": "fe90114b0384f7e9",
   "metadata": {
    "ExecuteTime": {
     "end_time": "2024-03-15T13:31:09.467209Z",
     "start_time": "2024-03-15T13:31:09.463139Z"
    }
   },
   "outputs": [],
   "source": [
    "cropped_keypoint_labels"
   ]
  },
  {
   "cell_type": "code",
   "execution_count": 96,
   "id": "9a44420ec79fb729",
   "metadata": {
    "ExecuteTime": {
     "end_time": "2024-03-15T12:34:20.847237Z",
     "start_time": "2024-03-15T12:34:20.843967Z"
    }
   },
   "outputs": [],
   "source": [
    "print(query_points_crop)"
   ]
  },
  {
   "cell_type": "code",
   "execution_count": 103,
   "id": "e067cff3d66134a9",
   "metadata": {
    "ExecuteTime": {
     "end_time": "2024-03-15T12:37:48.575099Z",
     "start_time": "2024-03-15T12:37:48.571968Z"
    }
   },
   "outputs": [],
   "source": [
    "cropped_video_object = cropped_video_manager.get_video_object(cropped_video_id)"
   ]
  },
  {
   "cell_type": "code",
   "execution_count": 109,
   "id": "bf13a72ebfbfd5ef",
   "metadata": {
    "ExecuteTime": {
     "end_time": "2024-03-15T12:38:54.655965Z",
     "start_time": "2024-03-15T12:38:51.289380Z"
    }
   },
   "outputs": [],
   "source": [
    "cropped_video_object.load_video()"
   ]
  },
  {
   "cell_type": "code",
   "execution_count": 110,
   "id": "f1efdad0ea7c26b4",
   "metadata": {
    "ExecuteTime": {
     "end_time": "2024-03-15T12:38:58.209867Z",
     "start_time": "2024-03-15T12:38:58.185858Z"
    }
   },
   "outputs": [],
   "source": [
    "# draw query_points on cropped video\n",
    "fig, ax = plt.subplots(figsize=(10, 5))\n",
    "ax.imshow(np.array(cropped_video_object.video[select_frame]))\n",
    "ax.scatter(query_points_crop[:, 2], query_points_crop[:, 1], marker=\"o\", color=color_list, s=25)\n",
    "plt.show(block=False)"
   ]
  },
  {
   "cell_type": "markdown",
   "id": "be7716a083384f27",
   "metadata": {},
   "source": [
    "## visualize cropped coordinates"
   ]
  },
  {
   "cell_type": "code",
   "execution_count": 11,
   "id": "1d239b60add66df5",
   "metadata": {
    "ExecuteTime": {
     "end_time": "2024-03-19T13:42:14.984073Z",
     "start_time": "2024-03-19T13:42:14.980893Z"
    }
   },
   "outputs": [],
   "source": [
    "all_body_keypoints = ['nose',\n",
    "                           'head bottom', 'head top',\n",
    "                           'left ear', 'right ear',\n",
    "                           'left shoulder', 'right shoulder',\n",
    "                           'left elbow', 'right elbow',\n",
    "                           'left wrist', 'right wrist',\n",
    "                           'left hip', 'right hip',\n",
    "                           'left knee', 'right knee',\n",
    "                           'left ankle', 'right ankle']\n",
    "\n",
    "def create_bodypart_colormap(body_keypoints):\n",
    "    # Use a matplotlib colormap\n",
    "    colorpalette = sns.color_palette(\"hls\", len(body_keypoints))  # 'tab20' is a good palette for distinct colors\n",
    "\n",
    "    bodypart_colors = {\n",
    "        body_keypoints[i]: colorpalette[i] for i in range(len(body_keypoints))\n",
    "    }\n",
    "\n",
    "    return bodypart_colors\n",
    "\n",
    "colormap = create_bodypart_colormap(all_body_keypoints)"
   ]
  },
  {
   "cell_type": "code",
   "execution_count": 12,
   "id": "e84b157c8850ae33",
   "metadata": {
    "ExecuteTime": {
     "end_time": "2024-03-19T13:42:16.346232Z",
     "start_time": "2024-03-19T13:42:16.343589Z"
    }
   },
   "outputs": [],
   "source": [
    "# Create a video manage to hold all videos\n",
    "cropped_video_manager = VideoManager()\n",
    "# Add all videos as VideoObject to video_manager (optional flag )\n",
    "cropped_video_manager.add_all_videos(cropped_videos_folder, add_pt_data=True)  # Load class data (pt_data), not the videos themselves"
   ]
  },
  {
   "cell_type": "code",
   "execution_count": 13,
   "id": "be1c16d943468b9a",
   "metadata": {
    "ExecuteTime": {
     "end_time": "2024-03-19T13:42:19.657350Z",
     "start_time": "2024-03-19T13:42:19.654405Z"
    }
   },
   "outputs": [],
   "source": [
    "cropped_video_id = 'cropped_vid_35_F-_c'"
   ]
  },
  {
   "cell_type": "code",
   "execution_count": 14,
   "id": "d0327214a8c65f3b",
   "metadata": {
    "ExecuteTime": {
     "end_time": "2024-03-19T13:42:26.430068Z",
     "start_time": "2024-03-19T13:42:26.426582Z"
    }
   },
   "outputs": [],
   "source": [
    "import json\n",
    "dir = '/home/daphne/Documents/GMA/codes/output/labeled'\n",
    "file_path = os.path.join(dir, \"35_F-_c.extreme_keypoints.cropped.json\")\n",
    "with open(file_path, 'r') as f:\n",
    "    cropped_keypoint_labels = json.load(f)"
   ]
  },
  {
   "cell_type": "code",
   "execution_count": 15,
   "id": "43247d8ca3fca293",
   "metadata": {
    "ExecuteTime": {
     "end_time": "2024-03-19T13:42:27.177869Z",
     "start_time": "2024-03-19T13:42:27.174431Z"
    }
   },
   "outputs": [],
   "source": [
    "cropped_keypoint_labels"
   ]
  },
  {
   "cell_type": "code",
   "execution_count": 16,
   "id": "fe92b90989543d9c",
   "metadata": {
    "ExecuteTime": {
     "end_time": "2024-03-19T13:42:27.735009Z",
     "start_time": "2024-03-19T13:42:27.732168Z"
    }
   },
   "outputs": [],
   "source": [
    "select_frame = '0'\n",
    "keypoints = cropped_keypoint_labels[select_frame].values()\n",
    "\n",
    "# Extract x and y coordinates and convert to a NumPy array\n",
    "coords = np.array([[point['x'], point['y']] for point in keypoints])"
   ]
  },
  {
   "cell_type": "code",
   "execution_count": 17,
   "id": "98e42d8a9e3898bd",
   "metadata": {
    "ExecuteTime": {
     "end_time": "2024-03-19T13:42:29.011309Z",
     "start_time": "2024-03-19T13:42:29.008866Z"
    }
   },
   "outputs": [],
   "source": [
    "print(coords)"
   ]
  },
  {
   "cell_type": "code",
   "execution_count": 18,
   "id": "7e0e1ab2d54906cd",
   "metadata": {
    "ExecuteTime": {
     "end_time": "2024-03-19T13:42:29.475784Z",
     "start_time": "2024-03-19T13:42:29.471419Z"
    }
   },
   "outputs": [],
   "source": [
    "coords[:,0]"
   ]
  },
  {
   "cell_type": "code",
   "execution_count": 19,
   "id": "bfe87a18afb68082",
   "metadata": {
    "ExecuteTime": {
     "end_time": "2024-03-19T13:42:30.521469Z",
     "start_time": "2024-03-19T13:42:30.518916Z"
    }
   },
   "outputs": [],
   "source": [
    "cropped_video_object = cropped_video_manager.get_video_object(cropped_video_id)"
   ]
  },
  {
   "cell_type": "code",
   "execution_count": 20,
   "id": "112517cfe8cb8e21",
   "metadata": {
    "ExecuteTime": {
     "end_time": "2024-03-19T13:42:34.818608Z",
     "start_time": "2024-03-19T13:42:31.478950Z"
    }
   },
   "outputs": [],
   "source": [
    "cropped_video_object.load_video()"
   ]
  },
  {
   "cell_type": "code",
   "execution_count": 22,
   "id": "dc6ee6e9529d033e",
   "metadata": {
    "ExecuteTime": {
     "end_time": "2024-03-19T13:42:56.152787Z",
     "start_time": "2024-03-19T13:42:56.148933Z"
    }
   },
   "outputs": [],
   "source": [
    "cropped_video_object.patient_data"
   ]
  },
  {
   "cell_type": "code",
   "execution_count": 23,
   "id": "3d84c423dba57222",
   "metadata": {
    "ExecuteTime": {
     "end_time": "2024-03-19T13:43:36.375880Z",
     "start_time": "2024-03-19T13:43:36.373384Z"
    }
   },
   "outputs": [],
   "source": [
    "color_list = [colormap[keypoint] for keypoint in cropped_keypoint_labels[select_frame].keys()]"
   ]
  },
  {
   "cell_type": "code",
   "execution_count": 25,
   "id": "ed3dfbc12fcab369",
   "metadata": {
    "ExecuteTime": {
     "end_time": "2024-03-19T13:43:50.456201Z",
     "start_time": "2024-03-19T13:43:50.430726Z"
    }
   },
   "outputs": [],
   "source": [
    "# draw query_points on cropped video\n",
    "fig, ax = plt.subplots(figsize=(10, 5))\n",
    "ax.imshow(np.array(cropped_video_object.video[int(select_frame)]))\n",
    "ax.scatter(coords[:, 0], coords[:, 1], marker=\"o\", color=color_list, s=25)\n",
    "plt.show(block=False)"
   ]
  },
  {
   "cell_type": "code",
   "execution_count": null,
   "id": "e6a7361dd2bb465",
   "metadata": {},
   "outputs": [],
   "source": []
  }
 ],
 "metadata": {
  "kernelspec": {
   "display_name": "Python 3 (ipykernel)",
   "language": "python",
   "name": "python3"
  },
  "language_info": {
   "codemirror_mode": {
    "name": "ipython",
    "version": 3
   },
   "file_extension": ".py",
   "mimetype": "text/x-python",
   "name": "python",
   "nbconvert_exporter": "python",
   "pygments_lexer": "ipython3",
   "version": "3.8.10"
  }
 },
 "nbformat": 4,
 "nbformat_minor": 5
}
